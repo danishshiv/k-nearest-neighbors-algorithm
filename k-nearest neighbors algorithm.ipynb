{
 "cells": [
  {
   "cell_type": "markdown",
   "metadata": {},
   "source": [
    "# KNN k-nearest neighbors algorithm"
   ]
  },
  {
   "cell_type": "code",
   "execution_count": 1,
   "metadata": {},
   "outputs": [],
   "source": [
    "import numpy as np\n",
    "from collections import Counter\n",
    "data={\"p\":[[7,7],[7,8],[8,7]],\n",
    "      \"f\":[[3,3],[2,1],[1,2]]}\n",
    "pred_pt=[8,8]\n",
    "k=5"
   ]
  },
  {
   "cell_type": "code",
   "execution_count": 53,
   "metadata": {},
   "outputs": [
    {
     "data": {
      "text/plain": [
       "[[1.4142135623730951, 'p'],\n",
       " [1.0, 'p'],\n",
       " [1.0, 'p'],\n",
       " [7.0710678118654755, 'f'],\n",
       " [9.219544457292887, 'f'],\n",
       " [9.219544457292887, 'f']]"
      ]
     },
     "execution_count": 53,
     "metadata": {},
     "output_type": "execute_result"
    }
   ],
   "source": [
    "list1=[]\n",
    "for i in data:\n",
    "    for j in data[i]:\n",
    "        a=np.linalg.norm(np.array(pred_pt)-np.array(j))\n",
    "        list1.append([a,i])\n",
    "list1"
   ]
  },
  {
   "cell_type": "code",
   "execution_count": 54,
   "metadata": {},
   "outputs": [
    {
     "data": {
      "text/plain": [
       "[[1.0, 'p'],\n",
       " [1.0, 'p'],\n",
       " [1.4142135623730951, 'p'],\n",
       " [7.0710678118654755, 'f'],\n",
       " [9.219544457292887, 'f'],\n",
       " [9.219544457292887, 'f']]"
      ]
     },
     "execution_count": 54,
     "metadata": {},
     "output_type": "execute_result"
    }
   ],
   "source": [
    "sorted(list1)"
   ]
  },
  {
   "cell_type": "code",
   "execution_count": 55,
   "metadata": {},
   "outputs": [
    {
     "name": "stdout",
     "output_type": "stream",
     "text": [
      "[1.0, 'p']\n",
      "[1.0, 'p']\n",
      "[1.4142135623730951, 'p']\n",
      "[7.0710678118654755, 'f']\n",
      "[9.219544457292887, 'f']\n"
     ]
    }
   ],
   "source": [
    "for i in sorted(list1)[0:k]:\n",
    "    print(i)"
   ]
  },
  {
   "cell_type": "code",
   "execution_count": 56,
   "metadata": {},
   "outputs": [
    {
     "name": "stdout",
     "output_type": "stream",
     "text": [
      "p\n"
     ]
    }
   ],
   "source": [
    "votes=[]\n",
    "for i in sorted(list1)[0:k]:\n",
    "    votes.append(i[1])\n",
    "print(Counter(votes).most_common()[0][0])"
   ]
  },
  {
   "cell_type": "code",
   "execution_count": null,
   "metadata": {},
   "outputs": [],
   "source": []
  }
 ],
 "metadata": {
  "kernelspec": {
   "display_name": "Python 3",
   "language": "python",
   "name": "python3"
  },
  "language_info": {
   "codemirror_mode": {
    "name": "ipython",
    "version": 3
   },
   "file_extension": ".py",
   "mimetype": "text/x-python",
   "name": "python",
   "nbconvert_exporter": "python",
   "pygments_lexer": "ipython3",
   "version": "3.7.3"
  }
 },
 "nbformat": 4,
 "nbformat_minor": 2
}
